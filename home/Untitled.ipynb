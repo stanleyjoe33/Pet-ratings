{
 "cells": [
  {
   "cell_type": "code",
   "execution_count": 3,
   "metadata": {},
   "outputs": [],
   "source": [
    "\"\"\"\n",
    "Content of \"log.txt\":\n",
    "10.1.2.1 - car [01/Mar/2022:13:05:05 +0900] \"GET /python HTTP/1.0\" 200 2222\n",
    "10.1.1.9 - bike [01/Mar/2022:13:05:10 +0900] \"GET /python HTTP/1.0\" 200 2222\n",
    "\n",
    "Expected output:\n",
    "01/Mar/2022:13:05:05 +0900\n",
    "01/Mar/2022:13:05:10 +0900\n",
    "\"\"\"\n",
    "\n",
    "def parse1():\n",
    "    for line in open(\"log.txt\"):\n",
    "        print(line.split(\"[\")[1].split(\"]\")[0])\n",
    "\n",
    "def parse2():\n",
    "    for line in open(\"log.txt\", \"r\"):\n",
    "        print(line.split()[3].strip(\"[]\"))\n",
    "\n",
    "def parse3():\n",
    "    for line in open(\"log.txt\", \"r\"):\n",
    "        print(\" \".join(line.split(\"[\" or \"]\")[3:5]))\n",
    "\n",
    "def parse4():\n",
    "    for line in open(\"log.txt\", \"rw\"):\n",
    "        print(\" \".join(line.split()[3:5]).strip(\"[]\"))\n",
    "  \n",
    "def parse5():\n",
    "    for line in open(\"log.txt\"):\n",
    "        print(re.split(\"\\[|\\]\", line)[1])"
   ]
  },
  {
   "cell_type": "code",
   "execution_count": 4,
   "metadata": {},
   "outputs": [],
   "source": [
    "a=[-1,4,5]"
   ]
  },
  {
   "cell_type": "code",
   "execution_count": 5,
   "metadata": {
    "scrolled": true
   },
   "outputs": [
    {
     "ename": "SyntaxError",
     "evalue": "invalid syntax (<ipython-input-5-6cb3298b05c0>, line 2)",
     "output_type": "error",
     "traceback": [
      "\u001b[0;36m  File \u001b[0;32m\"<ipython-input-5-6cb3298b05c0>\"\u001b[0;36m, line \u001b[0;32m2\u001b[0m\n\u001b[0;31m    return sum(x**2 if x > 0 for x in nums)\u001b[0m\n\u001b[0m                               ^\u001b[0m\n\u001b[0;31mSyntaxError\u001b[0m\u001b[0;31m:\u001b[0m invalid syntax\n"
     ]
    }
   ],
   "source": [
    "def sqsum1(a):\n",
    "\treturn sum(x**2 if x > 0 for x in nums)\n"
   ]
  },
  {
   "cell_type": "code",
   "execution_count": 11,
   "metadata": {},
   "outputs": [],
   "source": [
    "def sqsum2(a):\n",
    "    print(sum(x^2 for x in nums if x > 0))"
   ]
  },
  {
   "cell_type": "code",
   "execution_count": 10,
   "metadata": {
    "scrolled": true
   },
   "outputs": [
    {
     "ename": "SyntaxError",
     "evalue": "invalid syntax (<ipython-input-10-2f791cda16e4>, line 2)",
     "output_type": "error",
     "traceback": [
      "\u001b[0;36m  File \u001b[0;32m\"<ipython-input-10-2f791cda16e4>\"\u001b[0;36m, line \u001b[0;32m2\u001b[0m\n\u001b[0;31m    return sum(for x in nums if x > 0 then x^2)\u001b[0m\n\u001b[0m                 ^\u001b[0m\n\u001b[0;31mSyntaxError\u001b[0m\u001b[0;31m:\u001b[0m invalid syntax\n"
     ]
    }
   ],
   "source": [
    "def sqsum3():\n",
    "    return sum(for x in nums if x > 0 then x^2)\n"
   ]
  },
  {
   "cell_type": "code",
   "execution_count": 12,
   "metadata": {},
   "outputs": [],
   "source": [
    "def sqsum4(a):\n",
    "  \treturn sum(x**2 for x in nums if x > 0)"
   ]
  },
  {
   "cell_type": "code",
   "execution_count": 13,
   "metadata": {},
   "outputs": [
    {
     "ename": "SyntaxError",
     "evalue": "invalid syntax (<ipython-input-13-8e320f00c91f>, line 2)",
     "output_type": "error",
     "traceback": [
      "\u001b[0;36m  File \u001b[0;32m\"<ipython-input-13-8e320f00c91f>\"\u001b[0;36m, line \u001b[0;32m2\u001b[0m\n\u001b[0;31m    return sum(x^2 if x > 0 for x in nums)\u001b[0m\n\u001b[0m                              ^\u001b[0m\n\u001b[0;31mSyntaxError\u001b[0m\u001b[0;31m:\u001b[0m invalid syntax\n"
     ]
    }
   ],
   "source": [
    "def sqsum5(a):\n",
    "  \treturn sum(x^2 if x > 0 for x in nums)"
   ]
  },
  {
   "cell_type": "code",
   "execution_count": 14,
   "metadata": {},
   "outputs": [
    {
     "name": "stdout",
     "output_type": "stream",
     "text": [
      "FunEvent(tags=['google', 'ml', 'bootcamp'], year=2022)\n"
     ]
    }
   ],
   "source": [
    "class FunEvent:\n",
    "    def __init__(self, tags, year):\n",
    "        self.tags = tags\n",
    "        self.year = year\n",
    "    \n",
    "    def __str__(self):\n",
    "        return f\"FunEvent(tags={self.tags}, year={self.year})\"\n",
    "\n",
    "tags = [\"google\", \"ml\"]\n",
    "year = 2022\n",
    "bootcamp = FunEvent(tags, year)\n",
    "tags.append(\"bootcamp\")\n",
    "year = 2023\n",
    "print(bootcamp)"
   ]
  },
  {
   "cell_type": "code",
   "execution_count": null,
   "metadata": {},
   "outputs": [],
   "source": []
  }
 ],
 "metadata": {
  "kernelspec": {
   "display_name": "Python 3",
   "language": "python",
   "name": "python3"
  },
  "language_info": {
   "codemirror_mode": {
    "name": "ipython",
    "version": 3
   },
   "file_extension": ".py",
   "mimetype": "text/x-python",
   "name": "python",
   "nbconvert_exporter": "python",
   "pygments_lexer": "ipython3",
   "version": "3.6.3"
  }
 },
 "nbformat": 4,
 "nbformat_minor": 2
}
