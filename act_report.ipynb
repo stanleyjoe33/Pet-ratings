{
 "cells": [
  {
   "cell_type": "markdown",
   "metadata": {},
   "source": [
    "# ACT REPORT"
   ]
  },
  {
   "cell_type": "markdown",
   "metadata": {},
   "source": [
    "## Insights\n",
    "The insights derived from the analysis were guided by three research questions;"
   ]
  },
  {
   "cell_type": "markdown",
   "metadata": {},
   "source": [
    "**Research Questions**"
   ]
  },
  {
   "cell_type": "markdown",
   "metadata": {},
   "source": [
    "1. Are certain breeds associated with higher ratings?\n",
    "\n",
    "2. Do higer ratings correspond with higher retweet and like counts?\n",
    "\n",
    "3. What are the characteristics of posts with the least ratings?"
   ]
  },
  {
   "cell_type": "markdown",
   "metadata": {},
   "source": [
    " #### 1. Are certain breeds associated with higher ratings?\n"
   ]
  },
  {
   "cell_type": "markdown",
   "metadata": {},
   "source": [
    ">The approach used to answer this question was to group the various dog breeds by their mean ratings and showing the top 10. \n"
   ]
  },
  {
   "cell_type": "markdown",
   "metadata": {},
   "source": [
    "This showed the following breeds were associated with higher mean ratings with the **clumber breed taking the lead with an average rating of 2.7**.\n",
    "\n",
    "clumber             2.7\n",
    "\n",
    "military_uniform    1.4\n",
    "\n",
    "laptop              1.4\n",
    "\n",
    "upright             1.3\n",
    "\n",
    "paper_towel         1.3\n",
    "\n",
    "canoe               1.3\n",
    "\n",
    "syringe             1.3\n",
    "\n",
    "Arabian_camel       1.3\n",
    "\n",
    "Pomeranian          1.2\n",
    "\n",
    "Saluki              1.2"
   ]
  },
  {
   "cell_type": "markdown",
   "metadata": {},
   "source": [
    "#### 2. Do higer ratings correspond with higher retweet and like counts and vice versa?\n"
   ]
  },
  {
   "cell_type": "markdown",
   "metadata": {},
   "source": [
    "> The method employed was to group the tweets into quartiles by ratings and then comparing the sum of total retweets and likes for the 1st and 4th quartile (<25% and >74% respectively) and also comparing the average retweet and like counts for both quartiles."
   ]
  },
  {
   "cell_type": "markdown",
   "metadata": {},
   "source": [
    "**Total number of likes**\n",
    "\n",
    "The total number of likes for tweets with ratings in the 4th quartile = **9,362,320**\n",
    "\n",
    "The total number of likes for tweets with ratings in the 1st quartile = **1,931,930**\n",
    "\n",
    "**Likes per tweet**\n",
    "\n",
    "The average likes per tweets with ratings in the 4th quartile = **14,142.47**\n",
    "\n",
    "The average likes per tweets with ratings in the 1st quartile =  **3,032.8**\n",
    "\n",
    "**Total number of tweets**\n",
    "\n",
    "The total number of retweets for tweets with ratings in the 4th quartile =  **2,546,832**\n",
    "\n",
    "The total number of retweets for tweets with ratings in the 1st quartile = **641,288**\n",
    "\n",
    "**Retweets per tweet**\n",
    "\n",
    "The average retweet per tweets with ratings in the 4th quartile = **3,847.1**\n",
    "\n",
    "The average retweet per tweets with ratings in the 1st quartile =  **1,006.7**\n"
   ]
  },
  {
   "cell_type": "markdown",
   "metadata": {},
   "source": [
    ">It can therefore be inferred that posts with higher mean ratings had more engagements compared to those with lower mean ratings,\\."
   ]
  },
  {
   "cell_type": "markdown",
   "metadata": {},
   "source": [
    "#### 3. What are the characteristics of posts with the least ratings?"
   ]
  },
  {
   "cell_type": "markdown",
   "metadata": {},
   "source": [
    "> The method employed was to query the dataframe for all tweets with ratings in the least 10%. Then this was explored. "
   ]
  },
  {
   "cell_type": "markdown",
   "metadata": {},
   "source": [
    "**Top 10 Dominant breeds in this class**"
   ]
  },
  {
   "cell_type": "markdown",
   "metadata": {},
   "source": [
    "Chihuahua             16\n",
    "\n",
    "pug                   14\n",
    "\n",
    "seat_belt              9\n",
    "\n",
    "Labrador_retriever     8\n",
    "\n",
    "golden_retriever       8\n",
    "\n",
    "dalmatian              6\n",
    "\n",
    "Italian_greyhound      6\n",
    "\n",
    "French_bulldog         6\n",
    "\n",
    "Pembroke               5\n",
    "\n",
    "Shetland_sheepdog      5\n"
   ]
  },
  {
   "cell_type": "markdown",
   "metadata": {},
   "source": [
    ">The chihuahua was the most dominant breed having 16 tweets in the least 10% group."
   ]
  },
  {
   "cell_type": "markdown",
   "metadata": {},
   "source": [
    "**Most dominant Dog stage in the group**"
   ]
  },
  {
   "cell_type": "markdown",
   "metadata": {},
   "source": [
    "pupper    26\n",
    "\n",
    "doggo      4\n",
    "\n",
    "puppo      1"
   ]
  },
  {
   "cell_type": "markdown",
   "metadata": {},
   "source": [
    "> the pupper Dog stage was the most dominant dog stage in this group."
   ]
  },
  {
   "cell_type": "markdown",
   "metadata": {},
   "source": [
    "**Average like count per tweet in this group**"
   ]
  },
  {
   "cell_type": "markdown",
   "metadata": {},
   "source": [
    "820.4"
   ]
  },
  {
   "cell_type": "markdown",
   "metadata": {},
   "source": [
    "**Average retweet count per tweet in this group**"
   ]
  },
  {
   "cell_type": "markdown",
   "metadata": {},
   "source": [
    "2548.1"
   ]
  },
  {
   "cell_type": "markdown",
   "metadata": {},
   "source": [
    "## Visualization"
   ]
  },
  {
   "cell_type": "markdown",
   "metadata": {},
   "source": [
    "Four visualizations were created to give a few more insights using the mean counts since the proportion of the distr."
   ]
  },
  {
   "cell_type": "markdown",
   "metadata": {},
   "source": [
    "**Percentage of mean like counts by Dog stages**"
   ]
  },
  {
   "cell_type": "markdown",
   "metadata": {},
   "source": [
    "![](.\\viz\\1.png)"
   ]
  },
  {
   "cell_type": "markdown",
   "metadata": {},
   "source": [
    ">The Puppo stage had the highest mean like count percentage with 32.5%."
   ]
  },
  {
   "cell_type": "markdown",
   "metadata": {},
   "source": [
    "**Percentage of mean retweet counts by Dog stages**"
   ]
  },
  {
   "cell_type": "markdown",
   "metadata": {},
   "source": [
    "![](.\\viz\\2.png)"
   ]
  },
  {
   "cell_type": "markdown",
   "metadata": {},
   "source": [
    ">The floofer has highest percentage of mean retweet counts with 34.9%."
   ]
  },
  {
   "cell_type": "markdown",
   "metadata": {},
   "source": [
    "**Top 10 breeds with the highest mean like count**"
   ]
  },
  {
   "cell_type": "markdown",
   "metadata": {},
   "source": [
    "![](.\\viz\\3.png)"
   ]
  },
  {
   "cell_type": "markdown",
   "metadata": {},
   "source": [
    ">The angora tops this list with about 80,000 tweets."
   ]
  },
  {
   "cell_type": "markdown",
   "metadata": {},
   "source": [
    "**Top 10 breeds with the highest retweet mean retweet count** "
   ]
  },
  {
   "cell_type": "markdown",
   "metadata": {},
   "source": [
    "![](.\\viz\\4.png)"
   ]
  },
  {
   "cell_type": "markdown",
   "metadata": {},
   "source": [
    ">the Arabian_camel Tops this list with over 30,000 retweets"
   ]
  }
 ],
 "metadata": {
  "kernelspec": {
   "display_name": "Python 3",
   "language": "python",
   "name": "python3"
  },
  "language_info": {
   "codemirror_mode": {
    "name": "ipython",
    "version": 3
   },
   "file_extension": ".py",
   "mimetype": "text/x-python",
   "name": "python",
   "nbconvert_exporter": "python",
   "pygments_lexer": "ipython3",
   "version": "3.6.3"
  }
 },
 "nbformat": 4,
 "nbformat_minor": 2
}
